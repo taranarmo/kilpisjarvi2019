{
 "cells": [
  {
   "cell_type": "code",
   "execution_count": 1,
   "metadata": {},
   "outputs": [],
   "source": [
    "import Dates\n",
    "using TimeSeries, TimeSeriesResampler, Statistics\n",
    "using DelimitedFiles\n",
    "using HDF5"
   ]
  },
  {
   "cell_type": "code",
   "execution_count": 2,
   "metadata": {},
   "outputs": [],
   "source": [
    "# IJulia.load(\"nortek_aquadopp_functions.jl\")"
   ]
  },
  {
   "cell_type": "code",
   "execution_count": 3,
   "metadata": {},
   "outputs": [
    {
     "data": {
      "text/plain": [
       "create_beam_to_reynolds_stress_matrix (generic function with 1 method)"
      ]
     },
     "execution_count": 3,
     "metadata": {},
     "output_type": "execute_result"
    }
   ],
   "source": [
    "import Dates\n",
    "using HDF5\n",
    "using TimeSeries\n",
    "using TimeSeriesResampler\n",
    "using Statistics\n",
    "using DelimitedFiles\n",
    "\n",
    "indexparser = row -> Dates.DateTime(row[3], row[1], row[2], row[4], row[5], floor(row[6]), mod(row[6],1)*1000)\n",
    "\n",
    "function guess_filename(directory=\".\")\n",
    "    filename = filter(x->occursin(r\"\\.hdr\"i, x), readdir(directory))[1]\n",
    "    return filename[1:end-4]\n",
    "end\n",
    "\n",
    "function isdownlooking(hdr::String)\n",
    "    orientation = hdr[findnext(r\"orientation.+\\n\"i, hdr, 1)]\n",
    "    return occursin(r\"downlooking\"i, orientation)\n",
    "end\n",
    "\n",
    "function read_and_parse_T(hdr::String)\n",
    "    downlooking = isdownlooking(hdr)\n",
    "    T = hdr[findnext(r\"Transformation matrix.+\\n.+\\n.+\\n\", hdr, 1)]\n",
    "    T = reshape(split(T)[3:end], 3, 3)\n",
    "    T = transpose(parse.(Float64, T))\n",
    "    if downlooking\n",
    "        T[2, :] = -T[2, :]\n",
    "        T[3, :] = -T[3, :]\n",
    "    end\n",
    "    return T\n",
    "end\n",
    "    \n",
    "function parse_Nortek_HDR_file(filename::String)\n",
    "    hdr = read(\"$(filename).hdr\", String)\n",
    "    downlooking = isdownlooking(hdr)\n",
    "    T = read_and_parse_T(hdr)\n",
    "    return T\n",
    "end\n",
    "\n",
    "function parse_sen(filename::String)\n",
    "    sen = readdlm(\"$filename.sen\")\n",
    "    index = mapslices(indexparser, sen, dims=2)[:]\n",
    "    hpr = TimeArray(index, sen[:, 13:15],  Symbol.([\"Heading\", \"Pitch\", \"Roll\"]))\n",
    "    burst_id = sen[:, 7][:]\n",
    "    sample_id = sen[:, 8][:]\n",
    "    return index, hpr, burst_id, sample_id\n",
    "end  \n",
    "\n",
    "function get_R_matrices(hh, pp, rr, T)\n",
    "    H = [cos(hh) sin(hh) 0;\n",
    "        -sin(hh) cos(hh) 0;\n",
    "        0 0 1\n",
    "        ]\n",
    "    P = [\n",
    "        cos(pp) -sin(pp)*sin(rr) -cos(rr)*sin(pp);\n",
    "        0 cos(rr) -sin(rr);\n",
    "        sin(pp) sin(rr)*cos(pp) cos(pp)*cos(rr);\n",
    "        ]\n",
    "    return H*P*T\n",
    "end\n",
    "\n",
    "function create_beam_to_reynolds_stress_matrix(R::Array{Float64, 2})\n",
    "    if size(R) != (3,3)\n",
    "        error(\"R matrix should be 3x3\")\n",
    "    end\n",
    "    b2rs = hcat(\n",
    "        R[:,1].^2,\n",
    "        2*R[:,1].*R[:,2],\n",
    "        2*R[:,1].*R[:,3],\n",
    "        R[:,2].^2,\n",
    "        2*R[:,2].*R[:,3],\n",
    "        R[:,3].^2,\n",
    "    )\n",
    "    return b2rs\n",
    "end\n",
    "\n",
    "# function (filename::Union{String, Nothing})\n",
    "#     if filename == nothing\n",
    "#         filename = guess_filename()\n",
    "#     end\n"
   ]
  },
  {
   "cell_type": "markdown",
   "metadata": {},
   "source": [
    "$$\n",
    "\\begin{bmatrix} u^2_1 \\\\ u_1u_2 \\\\ u_1u_3 \\\\ u^2_2 \\\\ u_2u_3 \\\\ u^2_3 \\end{bmatrix}\n",
    "=\n",
    "\\begin{bmatrix}\n",
    "b_{1 \\parallel} \\\\ b_{2 \\parallel} \\\\ b_{3 \\parallel} \\\\ b_{1 \\perp} \\\\ b_{2 \\perp} \\\\ b_{3 \\perp}\n",
    "\\end{bmatrix}\n",
    "*\n",
    "inv \\begin{bmatrix} b2R \\end{bmatrix}\n",
    "$$"
   ]
  },
  {
   "cell_type": "code",
   "execution_count": 4,
   "metadata": {},
   "outputs": [],
   "source": [
    "directories = Dict(\n",
    "    '⟂'=>\"/home/taranarmo/Documents/NWPI/data/2019kilpis/aquadopp/Aquadopp_perpend_to_ice\",\n",
    "    '∥'=>\"/home/taranarmo/Documents/NWPI/data/2019kilpis/aquadopp/Aquadopp_parallelto_to_ice/\",\n",
    ");"
   ]
  },
  {
   "cell_type": "code",
   "execution_count": 5,
   "metadata": {},
   "outputs": [
    {
     "data": {
      "text/plain": [
       "get_b2r_matrix (generic function with 1 method)"
      ]
     },
     "execution_count": 5,
     "metadata": {},
     "output_type": "execute_result"
    }
   ],
   "source": [
    "function get_b2r_matrix(dir)\n",
    "    curdir = pwd(); cd(dir)\n",
    "    filename = guess_filename()\n",
    "    T = parse_Nortek_HDR_file(filename)\n",
    "    index, hpr = parse_sen(filename)\n",
    "    hpr = mean(resample(hpr, Dates.Minute(1)))\n",
    "    R = zeros(size(hpr)[1], 3, 3)\n",
    "    for (i, orientation) in enumerate(eachrow(values(hpr)))\n",
    "        R[i, :, :] = get_R_matrices(orientation..., T)\n",
    "    end\n",
    "    cd(curdir)\n",
    "    return mapslices(create_beam_to_reynolds_stress_matrix, R, dims=[2,3])\n",
    "end"
   ]
  },
  {
   "cell_type": "code",
   "execution_count": 6,
   "metadata": {},
   "outputs": [
    {
     "data": {
      "text/plain": [
       "align_and_stack_b2r_matrices (generic function with 1 method)"
      ]
     },
     "execution_count": 6,
     "metadata": {},
     "output_type": "execute_result"
    }
   ],
   "source": [
    "function align_and_stack_b2r_matrices(directories)\n",
    "    R1 = get_b2r_matrix(directories[1])\n",
    "    R2 = get_b2r_matrix(directories[2])\n",
    "    minimal_size = minimum([size(R)[1] for R in [R1, R2]])\n",
    "    R1, R2 = [R[1:minimal_size, :, :] for R in [R1, R2]]\n",
    "    return hcat(R1, R2)\n",
    "end"
   ]
  },
  {
   "cell_type": "code",
   "execution_count": 34,
   "metadata": {},
   "outputs": [],
   "source": [
    "cd(\"/home/taranarmo/Documents/NWPI/kilpisjarvi2019/\")"
   ]
  },
  {
   "cell_type": "code",
   "execution_count": 7,
   "metadata": {},
   "outputs": [],
   "source": [
    "b2rs = align_and_stack_b2r_matrices([directories['∥'], directories['⟂']]);"
   ]
  },
  {
   "cell_type": "code",
   "execution_count": 8,
   "metadata": {},
   "outputs": [
    {
     "data": {
      "text/plain": [
       "get_beam_currents_data (generic function with 1 method)"
      ]
     },
     "execution_count": 8,
     "metadata": {},
     "output_type": "execute_result"
    }
   ],
   "source": [
    "function get_beam_currents_data(directory)\n",
    "    filename = guess_filename(directory)\n",
    "    index, = parse_sen(\"$directory/$filename\")\n",
    "    values = [readdlm(\"$directory/$filename.v$i\", Float16)[:, 8][:] for i in [1,2,3]]\n",
    "    data = TimeArray(index, hcat(values...))\n",
    "    return mean(resample(data, Dates.Minute(1)))\n",
    "end"
   ]
  },
  {
   "cell_type": "code",
   "execution_count": 9,
   "metadata": {},
   "outputs": [
    {
     "data": {
      "text/plain": [
       "read_and_align_current_data (generic function with 1 method)"
      ]
     },
     "execution_count": 9,
     "metadata": {},
     "output_type": "execute_result"
    }
   ],
   "source": [
    "function read_and_align_current_data(directories)\n",
    "    v1 = get_beam_currents_data(directories[1])\n",
    "    v2 = get_beam_currents_data(directories[2])\n",
    "    minimal_size = minimum([size(data)[1] for data in [v1, v2]])\n",
    "    index = timestamp(v1)[1:minimal_size]\n",
    "    v1, v2 = [values(data)[1:minimal_size, :] for data in [v1, v2]]\n",
    "    return TimeArray(index, hcat(v1, v2))\n",
    "end"
   ]
  },
  {
   "cell_type": "code",
   "execution_count": 10,
   "metadata": {},
   "outputs": [
    {
     "data": {
      "text/plain": [
       "4958×6 Array{Float16,2}:\n",
       " 0.001659   -0.00125    -5.955e-5  -0.001812   0.001621   0.0002263\n",
       " 0.001665   -0.001256   -6.276e-5  -0.001818   0.00163    0.0002322\n",
       " 0.001676   -0.00126    -6.02e-5   -0.001823   0.0016365  0.0002351\n",
       " 0.001684   -0.001265   -6.36e-5   -0.001834   0.001643   0.000235 \n",
       " 0.001692   -0.001273   -6.783e-5  -0.0018425  0.001647   0.0002342\n",
       " 0.0017     -0.001282   -6.83e-5   -0.001847   0.001651   0.0002365\n",
       " 0.00171    -0.0012865  -6.527e-5  -0.001856   0.00166    0.0002421\n",
       " 0.001723   -0.001291   -6.22e-5   -0.001864   0.001665   0.0002381\n",
       " 0.001731   -0.0013     -5.895e-5  -0.001873   0.001667   0.0002307\n",
       " 0.001736   -0.0013075  -5.823e-5  -0.001879   0.001675   0.0002381\n",
       " 0.0017395  -0.001316   -5.955e-5  -0.00188    0.001679   0.0002351\n",
       " 0.001748   -0.001322   -5.454e-5  -0.001884   0.001686   0.0002341\n",
       " 0.001754   -0.001328   -5.2e-5    -0.001889   0.001697   0.0002414\n",
       " ⋮                                                        ⋮        \n",
       " 0.00514    -0.002117   -0.002453  -0.00494    0.001667   0.002728 \n",
       " 0.005077   -0.002094   -0.002466  -0.00483    0.001618   0.002684 \n",
       " 0.005      -0.002129   -0.002398  -0.004704   0.001577   0.00259  \n",
       " 0.004932   -0.00208    -0.002361  -0.00466    0.001494   0.002535 \n",
       " 0.004864   -0.002104   -0.002335  -0.00451    0.001478   0.002491 \n",
       " 0.004894   -0.002056   -0.002281  -0.004406   0.001439   0.002428 \n",
       " 0.00486    -0.002033   -0.002241  -0.00431    0.001426   0.002346 \n",
       " 0.00481    -0.00201    -0.002224  -0.00432    0.001392   0.002247 \n",
       " 0.004745   -0.001982   -0.002121  -0.004288   0.001303   0.002192 \n",
       " 0.004684   -0.001974   -0.002098  -0.004257   0.001286   0.00219  \n",
       " 0.004616   -0.00192    -0.002136  -0.00406    0.001274   0.002197 \n",
       " 0.004513   -0.00183    -0.00215   -0.004066   0.00125    0.002174 "
      ]
     },
     "execution_count": 10,
     "metadata": {},
     "output_type": "execute_result"
    }
   ],
   "source": [
    "v = read_and_align_current_data([directories['∥'], directories['⟂']]);\n",
    "v = moving(mean, v, 100);\n",
    "index = timestamp(v)\n",
    "v = values(v)"
   ]
  },
  {
   "cell_type": "code",
   "execution_count": 11,
   "metadata": {},
   "outputs": [],
   "source": [
    "reynolds_stress = zeros(size(v)[1], 6)\n",
    "for (i, current_data) in enumerate(eachrow(v))\n",
    "    reynolds_stress[i, :] = transpose(current_data) * b2rs[99+i, :, :]\n",
    "end"
   ]
  },
  {
   "cell_type": "code",
   "execution_count": 14,
   "metadata": {},
   "outputs": [],
   "source": [
    "h5write(\"reynolds_stress.hdf5\", \"reynolds_stress\", reynolds_stress)"
   ]
  },
  {
   "cell_type": "code",
   "execution_count": 21,
   "metadata": {},
   "outputs": [],
   "source": [
    "h5write(\"reynolds_stress.hdf5\", \"index\", Dates.datetime2unix.(index))"
   ]
  },
  {
   "cell_type": "code",
   "execution_count": 23,
   "metadata": {},
   "outputs": [],
   "source": [
    "writedlm(\"reynolds_stress.txt\", reynolds_stress)"
   ]
  },
  {
   "cell_type": "code",
   "execution_count": 21,
   "metadata": {},
   "outputs": [],
   "source": [
    "writedlm(\"reynolds_stress_index.txt\", \"index\", Dates.datetime2unix.(index))"
   ]
  },
  {
   "cell_type": "code",
   "execution_count": 25,
   "metadata": {},
   "outputs": [],
   "source": [
    "writetimearray(TimeArray(index, reynolds_stress), \"reynolds_stress.csv\")"
   ]
  }
 ],
 "metadata": {
  "kernelspec": {
   "display_name": "Julia 1.1.1",
   "language": "julia",
   "name": "julia-1.1"
  },
  "language_info": {
   "file_extension": ".jl",
   "mimetype": "application/julia",
   "name": "julia",
   "version": "1.1.1"
  }
 },
 "nbformat": 4,
 "nbformat_minor": 2
}
