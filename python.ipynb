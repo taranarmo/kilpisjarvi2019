{
 "cells": [
  {
   "cell_type": "code",
   "execution_count": 24,
   "metadata": {},
   "outputs": [],
   "source": [
    "# %load /home/taranarmo/Develop/Python3/python-jupyter_code_chunks/imports.py\n",
    "import numpy as np\n",
    "import pandas as pd\n",
    "idx = pd.IndexSlice\n",
    "import matplotlib.pyplot as plt\n",
    "import matplotlib as mpl\n",
    "import os\n",
    "import re\n",
    "import fnmatch\n",
    "import datetime\n",
    "from sympy import roots\n",
    "import sys\n"
   ]
  },
  {
   "cell_type": "code",
   "execution_count": 2,
   "metadata": {},
   "outputs": [],
   "source": [
    "# %load /home/taranarmo/Develop/Python3/python-jupyter_code_chunks/includeExterntalImportsDirectory.py\n",
    "sys.path.append('/home/taranarmo/Develop/Python3/python-jupyter_code_chunks/')\n",
    "\n"
   ]
  },
  {
   "cell_type": "code",
   "execution_count": 3,
   "metadata": {},
   "outputs": [],
   "source": [
    "from getClosest import get_closest"
   ]
  },
  {
   "cell_type": "code",
   "execution_count": 4,
   "metadata": {},
   "outputs": [],
   "source": [
    "def guess_filename(working_dir=None):\n",
    "    if not working_dir:\n",
    "        working_dir = '.'\n",
    "    hdr_file = fnmatch.filter(names=os.listdir(working_dir), pat=\"*.hdr\")\n",
    "    hdr_file = hdr_file[0]\n",
    "    filename = hdr_file.split('.')[0]\n",
    "    return filename\n"
   ]
  },
  {
   "cell_type": "code",
   "execution_count": 5,
   "metadata": {},
   "outputs": [],
   "source": [
    "from adcp_filtering import filter_adcp_data"
   ]
  },
  {
   "cell_type": "code",
   "execution_count": 65,
   "metadata": {},
   "outputs": [],
   "source": [
    "from fancy_date_axes import make_fancy_date_axis"
   ]
  },
  {
   "cell_type": "markdown",
   "metadata": {},
   "source": [
    "### Read data"
   ]
  },
  {
   "cell_type": "code",
   "execution_count": 6,
   "metadata": {},
   "outputs": [],
   "source": [
    "directories = {\n",
    "    '⟂':\"/home/taranarmo/Documents/NWPI/data/2019kilpis/aquadopp/Aquadopp_perpend_to_ice/\",\n",
    "    '∥':\"/home/taranarmo/Documents/NWPI/data/2019kilpis/aquadopp/Aquadopp_parallelto_to_ice/\",\n",
    "}"
   ]
  },
  {
   "cell_type": "code",
   "execution_count": 7,
   "metadata": {},
   "outputs": [],
   "source": [
    "def read_nortek_data_file(directory, amplitude=True):\n",
    "    filename = guess_filename(directory)\n",
    "    datatype = 'a' if amplitude else 'c'\n",
    "    data = [pd.read_csv(\n",
    "        f\"{directory}{filename}.{datatype}{comp}\",\n",
    "        delim_whitespace=True,\n",
    "        header=None,\n",
    "        index_col=[0,1],\n",
    "    ) for comp in [1,2,3]]\n",
    "    return pd.concat(data, axis=1)\n",
    "\n",
    "def make_filter_array(directory, amplitudeThreshold, correlationThreshold):\n",
    "    return (\n",
    "        (read_nortek_data_file(directory, True) < amplitudeThreshold) &\n",
    "        (read_nortek_data_file(directory, False) < correlationThreshold)\n",
    "    ).values"
   ]
  },
  {
   "cell_type": "code",
   "execution_count": 8,
   "metadata": {},
   "outputs": [],
   "source": [
    "def read_and_prepare_data(directory, amplitudeThreshold=40, correlationThreshold=60):\n",
    "    data = pd.read_hdf(f\"{directory}{guess_filename(directory)}_beam.hdf5\")\n",
    "    data.mask(make_filter_array(directory, amplitudeThreshold, correlationThreshold), inplace=True)\n",
    "    data = filter_adcp_data(data)\n",
    "    data = data.resample('T', level=0).mean()\n",
    "    data = data.loc[:\"2019-05-16\", :]\n",
    "    return data"
   ]
  },
  {
   "cell_type": "code",
   "execution_count": 46,
   "metadata": {},
   "outputs": [],
   "source": [
    "adcp_data = {key:read_and_prepare_data(\n",
    "    directories[key],\n",
    "    amplitudeThreshold=70,\n",
    "    correlationThreshold=90,\n",
    ") for key in directories.keys()}"
   ]
  },
  {
   "cell_type": "markdown",
   "metadata": {},
   "source": [
    "### Calculating Reynolds stress"
   ]
  },
  {
   "cell_type": "code",
   "execution_count": 47,
   "metadata": {},
   "outputs": [],
   "source": [
    "import json\n",
    "import re\n",
    "\n",
    "def get_T(directory):\n",
    "    filename = guess_filename(directory)\n",
    "    with open(f\"{directory}{filename}.hdr\") as f:\n",
    "        hdr = f.read()\n",
    "    T = re.search(r\"Transforma.+$\\n.+\\n.+\", hdr, re.M).group(0).split()[2:]\n",
    "    T = np.matrix(np.reshape(np.float64(T), [3, 3]))\n",
    "    if \"DOWNLOOKING\" in hdr:\n",
    "        T[1:2, :] = T[1:2, :] * -1\n",
    "    return T\n",
    "\n",
    "def get_result_matrix(hh, pp, rr, T):\n",
    "    H = np.matrix([\n",
    "        [np.cos(hh), np.sin(hh), 0],\n",
    "        [-np.sin(hh), np.cos(hh), 0],\n",
    "        [0, 0, 1],\n",
    "        ])\n",
    "    P = np.matrix([\n",
    "        [np.cos(pp), -np.sin(pp)*np.sin(rr), -np.cos(rr)*np.sin(pp)],\n",
    "        [0, np.cos(rr), -np.sin(rr)],\n",
    "        [np.sin(pp), np.sin(rr)*np.cos(pp), np.cos(pp)*np.cos(rr)],\n",
    "        ])\n",
    "    return np.array(H*P*T)"
   ]
  },
  {
   "cell_type": "code",
   "execution_count": 48,
   "metadata": {},
   "outputs": [],
   "source": [
    "def make_R(directory):\n",
    "    with open(f\"{directory}rotation.json\") as f:\n",
    "        rotation = json.load(f)\n",
    "    R = get_result_matrix(rotation[\"Heading\"]-np.pi/2,rotation[\"Pitch\"],rotation[\"Roll\"], get_T(directory))\n",
    "    return R"
   ]
  },
  {
   "cell_type": "code",
   "execution_count": 49,
   "metadata": {},
   "outputs": [],
   "source": [
    "def make_b2r(R):\n",
    "    return np.column_stack((\n",
    "        R[:,0]**2,\n",
    "        2*R[:,0]*R[:,1],\n",
    "        2*R[:,0]*R[:,2],\n",
    "        R[:,1]**2,\n",
    "        2*R[:,1]*R[:,2],\n",
    "        R[:,2]**2,\n",
    "    ))"
   ]
  },
  {
   "cell_type": "markdown",
   "metadata": {},
   "source": [
    "$$\n",
    "\\begin{bmatrix} u^2_1 \\\\ u_1u_2 \\\\ u_1u_3 \\\\ u^2_2 \\\\ u_2u_3 \\\\ u^2_3 \\end{bmatrix}\n",
    "=\n",
    "\\begin{bmatrix}\n",
    "b_{1 \\parallel} \\\\ b_{2 \\parallel} \\\\ b_{3 \\parallel} \\\\ b_{1 \\perp} \\\\ b_{2 \\perp} \\\\ b_{3 \\perp}\n",
    "\\end{bmatrix}\n",
    "*\n",
    "inv \\begin{bmatrix} b2R \\end{bmatrix}\n",
    "$$"
   ]
  },
  {
   "cell_type": "code",
   "execution_count": 50,
   "metadata": {},
   "outputs": [],
   "source": [
    "def get_reynolds_stress(cell=1, detrend=\"10T\", ensemble=\"100T\", adcp_data=adcp_data):\n",
    "    keys = list(adcp_data.keys())\n",
    "    b2r = np.vstack(\n",
    "        (\n",
    "            make_b2r(make_R(directories[keys[0]])),\n",
    "            make_b2r(make_R(directories[keys[1]])),\n",
    "        )\n",
    "    )\n",
    "    b2r = np.matrix(b2r)\n",
    "    cells = adcp_data[keys[0]].columns.levels[1].values\n",
    "    cell = get_closest(sequence=cells, number=cell)\n",
    "    data = np.hstack(\n",
    "        (\n",
    "            adcp_data[keys[0]].loc[:, idx[:, cell]].values,\n",
    "            adcp_data[keys[1]].loc[:, idx[:, cell]].values,\n",
    "        )\n",
    "    )\n",
    "    data = pd.DataFrame(index=adcp_data[keys[0]].index, data=data)\n",
    "    data = data - data.rolling(detrend).mean()\n",
    "    data = data.rolling(ensemble).mean()\n",
    "    data = np.matrix(data.T.values**2)\n",
    "    reynolds_stress = b2r * data\n",
    "    return reynolds_stress.T"
   ]
  },
  {
   "cell_type": "code",
   "execution_count": 68,
   "metadata": {},
   "outputs": [
    {
     "data": {
      "image/png": "[encoded data removed]",
      "text/plain": [
       "<Figure size 432x288 with 1 Axes>"
      ]
     },
     "metadata": {
      "needs_background": "light"
     },
     "output_type": "display_data"
    }
   ],
   "source": [
    "data = pd.DataFrame(\n",
    "    get_reynolds_stress(.2, detrend=\"100T\", ensemble=\"100T\"),\n",
    "    index = adcp_data['⟂'].index,\n",
    ")\n",
    "plt.plot(data)\n",
    "make_fancy_date_axis()"
   ]
  },
  {
   "cell_type": "code",
   "execution_count": 60,
   "metadata": {},
   "outputs": [
    {
     "data": {
      "text/plain": [
       "matrix([[0.00079058]])"
      ]
     },
     "execution_count": 60,
     "metadata": {},
     "output_type": "execute_result"
    }
   ],
   "source": [
    "sum(get_reynolds_stress(\n",
    "    .2,\n",
    "    detrend=\"100T\",\n",
    "    ensemble=\"100T\")[:, 5])"
   ]
  },
  {
   "cell_type": "code",
   "execution_count": null,
   "metadata": {},
   "outputs": [],
   "source": []
  },
  {
   "cell_type": "code",
   "execution_count": null,
   "metadata": {},
   "outputs": [],
   "source": []
  },
  {
   "cell_type": "code",
   "execution_count": null,
   "metadata": {},
   "outputs": [],
   "source": []
  },
  {
   "cell_type": "code",
   "execution_count": null,
   "metadata": {},
   "outputs": [],
   "source": []
  }
 ],
 "metadata": {
  "kernelspec": {
   "display_name": "Python 3",
   "language": "python",
   "name": "python3"
  },
  "language_info": {
   "codemirror_mode": {
    "name": "ipython",
    "version": 3
   },
   "file_extension": ".py",
   "mimetype": "text/x-python",
   "name": "python",
   "nbconvert_exporter": "python",
   "pygments_lexer": "ipython3",
   "version": "3.7.3"
  }
 },
 "nbformat": 4,
 "nbformat_minor": 4
}
